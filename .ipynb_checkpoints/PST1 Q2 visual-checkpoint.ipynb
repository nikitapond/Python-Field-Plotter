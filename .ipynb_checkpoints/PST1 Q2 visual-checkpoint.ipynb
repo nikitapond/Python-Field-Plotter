{
 "cells": [
  {
   "cell_type": "markdown",
   "metadata": {},
   "source": [
    "# PST1 Q2\n",
    "This confused me like crazy. For MM2 PST, Q2 is:\n",
    "\n",
    "_Given the surface $x^3y^2z=12$, find the equation of the tangent plane at $r_0 =(1,-2,3)$._\n",
    "\n",
    "Now, to find a plane, we need the vector that is perpendicular to the surface at the given point. Logic tells us we need the nabla function to find this.\n",
    "\n",
    "When you take $\\nabla \\phi$ the vector we find points in the direction of maximum change.\n",
    "However, this applies to a scalar field. In this question, the scalar field is:\n",
    "$$\\phi = x^3y^2z$$\n",
    "When we look at $x^3y^2z=12$ we are looking at 1 individual contor surface of this field. When we take $\\nabla \\psi$ we get:\n",
    "\n",
    "$$\\nabla \\psi = \\left(\\matrix{3x^2y^2z\\\\2x^3yz\\\\x^3y^2}\\right)$$\n",
    "\n",
    "When we give the position $r_0 =(1,-2,3)$ we get the vector:\n",
    "$$v = \\left(\\matrix{36\\\\-12\\\\4}\\right)$$\n",
    "This points in the direction of greatest change.\n",
    "Below, I display $\\phi = 12$ and $\\phi =13$ to show the direction this arrow points"
   ]
  },
  {
   "cell_type": "code",
   "execution_count": 8,
   "metadata": {},
   "outputs": [
    {
     "data": {
      "text/html": [
       "<div id=\"glowscript\" class=\"glowscript\"></div>"
      ],
      "text/plain": [
       "<IPython.core.display.HTML object>"
      ]
     },
     "metadata": {},
     "output_type": "display_data"
    },
    {
     "data": {
      "application/javascript": [
       "if (typeof Jupyter !== \"undefined\") { window.__context = { glowscript_container: $(\"#glowscript\").removeAttr(\"id\")};}else{ element.textContent = ' ';}"
      ],
      "text/plain": [
       "<IPython.core.display.Javascript object>"
      ]
     },
     "metadata": {},
     "output_type": "display_data"
    }
   ],
   "source": [
    "import numpy as np\n",
    "from vpython import canvas, vector, rate, vertex, quad, color, random, triangle, cross, sphere, arrow\n",
    "\n",
    "def f1(x,y):\n",
    "    #Function is x^3*y^2*z=12, rearrange for z\n",
    "    z=0\n",
    "    try:\n",
    "        z = 12*x**(-3)*y**(-2)\n",
    "    except:\n",
    "        return 0\n",
    "    return z\n",
    "def f2(x,y):\n",
    "    #Function is x^3*y^2*z=20, rearrange for z\n",
    "    z=0\n",
    "    try:\n",
    "        z = 50*x**(-3)*y**(-2)\n",
    "    except:\n",
    "        return 0\n",
    "    return z\n",
    "resolution = 5\n",
    "dx = 1/resolution\n",
    "dy = 1/resolution\n",
    "x = 0.1\n",
    "xi=0\n",
    "y = -3\n",
    "yi=0      \n",
    "scene = canvas(width=640, height=480, center=vector(3,0,0))\n",
    "\n",
    "\n",
    "while xi< 2*resolution:\n",
    "    while yi< 2*resolution:\n",
    "        \n",
    "        \n",
    "        heights1 = [f1(x,y), f1(x+dx, y), f1(x+dx,y+dy), f1(x,y+dy)]\n",
    "        heights2 = [f2(x,y), f2(x+dx, y), f2(x+dx,y+dy), f2(x,y+dy)]\n",
    "        \n",
    "        #Quad 1\n",
    "        a1 = vertex(pos=vector(x,y,heights1[0]))\n",
    "        b1 = vertex(pos=vector(x+dx,y,heights1[1]))\n",
    "        c1 = vertex(pos=vector(x+dx,y+dy,heights1[2]))\n",
    "        d1 = vertex(pos=vector(x,y+dy,heights1[3]))\n",
    "        norm1 = cross((b1.pos-a1.pos),(c1.pos-a1.pos)).norm()\n",
    "        a1.normal=norm1        \n",
    "        b1.normal=norm1\n",
    "        c1.normal=norm1\n",
    "        d1.normal=norm1\n",
    "        Q1 = quad(vs=[a1,b1,c1,d1])\n",
    "    \n",
    "        #Quad 2\n",
    "        a2 = vertex(pos=vector(x,y,heights2[0]))\n",
    "        b2 = vertex(pos=vector(x+dx,y,heights2[1]))\n",
    "        c2 = vertex(pos=vector(x+dx,y+dy,heights2[2]))\n",
    "        d2 = vertex(pos=vector(x,y+dy,heights2[3]))\n",
    "        norm2 = cross((b2.pos-a2.pos),(c2.pos-a2.pos)).norm()\n",
    "        a2.normal=norm2        \n",
    "        b2.normal=norm2\n",
    "        c2.normal=norm2\n",
    "        d2.normal=norm2\n",
    "        Q2 = quad(vs=[a2,b2,c2,d2])\n",
    "        \n",
    "        y+= 1/resolution\n",
    "        yi+=1\n",
    "    y=-3\n",
    "    yi=0\n",
    "    x+= 1/resolution\n",
    "    xi+=1\n",
    "\n",
    "    \n",
    "def derive(x,y,z):\n",
    "    #The derivative of the function is a vector:\n",
    "    #x=3x^2 * y^2 * z\n",
    "    #y=2x^3 * y * z\n",
    "    #z = x^3 * y^2\n",
    "    outvec = vector(3*(x**2)*(y**2)*z, 2*(x**3)*y*z, (x**3)*(y**2))\n",
    "    return outvec\n",
    "    \n",
    "    \n",
    "ar = arrow(pos=vector(1,-2,3), axis=derive(1,-2,3)*(0.05))\n",
    "#ball = sphere(pos=vector(1,-2,3))\n",
    "        "
   ]
  },
  {
   "cell_type": "code",
   "execution_count": null,
   "metadata": {},
   "outputs": [],
   "source": []
  },
  {
   "cell_type": "code",
   "execution_count": null,
   "metadata": {},
   "outputs": [],
   "source": []
  }
 ],
 "metadata": {
  "kernelspec": {
   "display_name": "Python 3",
   "language": "python",
   "name": "python3"
  },
  "language_info": {
   "codemirror_mode": {
    "name": "ipython",
    "version": 3
   },
   "file_extension": ".py",
   "mimetype": "text/x-python",
   "name": "python",
   "nbconvert_exporter": "python",
   "pygments_lexer": "ipython3",
   "version": "3.6.5"
  }
 },
 "nbformat": 4,
 "nbformat_minor": 2
}
